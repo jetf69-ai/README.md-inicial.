{
 "cells": [
  {
   "cell_type": "code",
   "execution_count": null,
   "id": "4e134707",
   "metadata": {},
   "outputs": [],
   "source": [
    "import pandas as pd\n",
    "df = pd.read_csv('../vehicles_us.csv')  # ajusta ruta si abriste el notebook desde raíz\n",
    "df.head()"
   ]
  },
  {
   "cell_type": "code",
   "execution_count": null,
   "id": "bcdfc305",
   "metadata": {},
   "outputs": [],
   "source": [
    "import plotly.express as px\n",
    "fig = px.histogram(df, x='odometer')\n",
    "fig.show()"
   ]
  },
  {
   "cell_type": "code",
   "execution_count": null,
   "id": "4f34670e",
   "metadata": {},
   "outputs": [],
   "source": [
    "fig = px.scatter(df, x='odometer', y='price')\n",
    "fig.show()"
   ]
  }
 ],
 "metadata": {
  "kernelspec": {
   "display_name": "Python 3",
   "language": "python",
   "name": "python3"
  },
  "language_info": {
   "name": "python",
   "version": "3.12.3"
  }
 },
 "nbformat": 4,
 "nbformat_minor": 5
}
